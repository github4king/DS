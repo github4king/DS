{
 "cells": [
  {
   "cell_type": "code",
   "execution_count": 1,
   "id": "3070dd30",
   "metadata": {},
   "outputs": [
    {
     "ename": "SyntaxError",
     "evalue": "invalid syntax (Temp/ipykernel_62808/3098384223.py, line 1)",
     "output_type": "error",
     "traceback": [
      "\u001b[1;36m  File \u001b[1;32m\"C:\\Users\\91959\\AppData\\Local\\Temp/ipykernel_62808/3098384223.py\"\u001b[1;36m, line \u001b[1;32m1\u001b[0m\n\u001b[1;33m    1. In the below elements which of them are values or an expression? eg:- values can be integer or string and expressions will be mathematical operators.\u001b[0m\n\u001b[1;37m       ^\u001b[0m\n\u001b[1;31mSyntaxError\u001b[0m\u001b[1;31m:\u001b[0m invalid syntax\n"
     ]
    }
   ],
   "source": [
    "1. In the below elements which of them are values or an expression? eg:- values can be integer or string and expressions will be mathematical operators.\n",
    "*  \n",
    "'hello'\n",
    "-87.8\n",
    "- \n",
    "/ \n",
    "+\t\n",
    "6 \n",
    "ANS : \n",
    "    Values: \n",
    "        'hello'\n",
    "         -87.8\n",
    "          6 \n",
    "    Expression :Expression means combination of values,operators Variables it includes above as well\n",
    "        - \n",
    "        / \n",
    "        +\t\n",
    "        *  \n",
    "        \n",
    "2. What is the difference between string and variable?\n",
    "Ans: String is data type and in python it is default data type\n",
    "     Variable : Variable holds memory and stores the data\n",
    "\n",
    "3. Describe three different data types.\n",
    "         int str,float \n",
    "\n",
    "4. What is an expression made up of? What do all expressions do?\n",
    " Expression means combination of values,operators Variables it includes above as well\n",
    "     it may calculate,assign\n",
    "\n",
    "5. This assignment statements, like spam = 10. What is the difference between an expression and a statement?\n",
    "  Ans :  Expression can assign and calculate spam can be printed and give the value 10\n",
    "         statement can state the syntax,\n",
    "\n",
    "\n",
    "6. After running the following code, what does the variable bacon contain?\n",
    "bacon = 22\n",
    "bacon + 1\n",
    "Ans : 23  Bacon is the type of integer \n",
    "\n",
    "\n",
    "7. What should the values of the following two terms be?\n",
    "'spam' + 'spamspam'\n",
    "'spam' * 3\n",
    "\n",
    " ANS : spamspamspam\n",
    "\n",
    "8. Why is eggs a valid variable name while 100 is invalid?\n",
    "   ans :Variable names can contain numbers, letters and underscores.\n",
    "         Variable names can't be numbers        .\n",
    "       \n",
    "9. What three functions can be used to get the integer, floating-point number, or string version of a value?\n",
    "       Ans : Type casting int( ),float () str()\n",
    "\n",
    "10. Why does this expression cause an error? How can you fix it?\n",
    "\n",
    "'I have eaten ' + 99 + ' burritos.'\n",
    " \n",
    "    Ans : The 99 is integer cannot be assigned to the string\n",
    "        1) 'I have eaten ' + '99' + ' burritos.' 2) 'I have eaten ' + str(99) + ' burritos.'\n",
    "  \n",
    "\n",
    "\n",
    "\n"
   ]
  },
  {
   "cell_type": "code",
   "execution_count": null,
   "id": "11a5f304",
   "metadata": {},
   "outputs": [],
   "source": []
  }
 ],
 "metadata": {
  "kernelspec": {
   "display_name": "Python 3 (ipykernel)",
   "language": "python",
   "name": "python3"
  },
  "language_info": {
   "codemirror_mode": {
    "name": "ipython",
    "version": 3
   },
   "file_extension": ".py",
   "mimetype": "text/x-python",
   "name": "python",
   "nbconvert_exporter": "python",
   "pygments_lexer": "ipython3",
   "version": "3.9.7"
  }
 },
 "nbformat": 4,
 "nbformat_minor": 5
}
